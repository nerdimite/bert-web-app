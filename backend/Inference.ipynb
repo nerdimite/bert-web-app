{
 "cells": [
  {
   "cell_type": "code",
   "execution_count": 1,
   "metadata": {},
   "outputs": [],
   "source": [
    "from transformers import BertModel, BertTokenizer\n",
    "import torch\n",
    "from torch import nn"
   ]
  },
  {
   "cell_type": "code",
   "execution_count": 2,
   "metadata": {
    "scrolled": true
   },
   "outputs": [],
   "source": [
    "model = BertModel.from_pretrained('./bert-base-uncased')"
   ]
  },
  {
   "cell_type": "code",
   "execution_count": 3,
   "metadata": {},
   "outputs": [],
   "source": [
    "tokenizer = BertTokenizer.from_pretrained('bert-base-uncased')"
   ]
  },
  {
   "cell_type": "code",
   "execution_count": 4,
   "metadata": {},
   "outputs": [],
   "source": [
    "class SentimentClassifierModel(nn.Module):\n",
    "\n",
    "    def __init__(self, freeze_bert = True):\n",
    "        super(SentimentClassifierModel, self).__init__()\n",
    "\n",
    "        # Instantiating the BERT model object \n",
    "        self.bert_layer = BertModel.from_pretrained('./bert-base-uncased')\n",
    "        \n",
    "        # Defining layers like dropout and linear\n",
    "        self.dropout = nn.Dropout(0.1)\n",
    "        self.classifier = nn.Linear(768, 1)\n",
    "\n",
    "    def forward(self, seq, attn_masks):\n",
    "        '''\n",
    "        Inputs:\n",
    "            -seq : Tensor of shape [B, T] containing token ids of sequences\n",
    "            -attn_masks : Tensor of shape [B, T] containing attention masks to be used to avoid contibution of PAD tokens\n",
    "        '''\n",
    "\n",
    "        # Getting contextualized representations from BERT Layer\n",
    "        cont_reps, _ = self.bert_layer(seq, attention_mask = attn_masks)\n",
    "\n",
    "        # Obtaining the representation of [CLS] head\n",
    "        cls_rep = cont_reps[:, 0]\n",
    "        # print('CLS shape: ',cls_rep.shape)\n",
    "\n",
    "        # Feeding cls_rep to the classifier layer\n",
    "        logits = self.classifier(cls_rep)\n",
    "        # print('Logits shape: ',logits.shape)\n",
    "\n",
    "        return logits"
   ]
  },
  {
   "cell_type": "code",
   "execution_count": 7,
   "metadata": {},
   "outputs": [
    {
     "data": {
      "text/plain": [
       "<All keys matched successfully>"
      ]
     },
     "execution_count": 7,
     "metadata": {},
     "output_type": "execute_result"
    }
   ],
   "source": [
    "# predictor\n",
    "inference_file = torch.load('inference.pth')\n",
    "predictor = SentimentClassifierModel()\n",
    "predictor.load_state_dict(inference_file)"
   ]
  },
  {
   "cell_type": "code",
   "execution_count": 8,
   "metadata": {},
   "outputs": [],
   "source": [
    "def preprocess(sentence, maxlen=64):\n",
    "\n",
    "    tokenizer = BertTokenizer.from_pretrained('bert-base-uncased')\n",
    "\n",
    "    # Tokenize the sentence\n",
    "    tokens = tokenizer.tokenize(sentence)\n",
    "\n",
    "    # Inserting the CLS and SEP token at the beginning and end of the sentence\n",
    "    tokens = ['[CLS]'] + tokens + ['[SEP]']\n",
    "    \n",
    "    # Padding/truncating the sentences to the maximum length\n",
    "    if len(tokens) < maxlen:\n",
    "        tokens = tokens + ['[PAD]' for _ in range(maxlen - len(tokens))]\n",
    "    else:\n",
    "        tokens = tokens[:maxlen-1] + ['[SEP]']\n",
    "    \n",
    "    # Convert the sequence to ids with BERT Vocabulary\n",
    "    tokens_ids = tokenizer.convert_tokens_to_ids(tokens)\n",
    "    \n",
    "    # Converting the list to a pytorch tensor\n",
    "    tokens_ids_tensor = torch.tensor(tokens_ids).unsqueeze(0)\n",
    "\n",
    "    # Obtaining the attention mask\n",
    "    attn_mask = (tokens_ids_tensor != 0).long()\n",
    "\n",
    "    return tokens_ids_tensor, attn_mask"
   ]
  },
  {
   "cell_type": "code",
   "execution_count": 12,
   "metadata": {},
   "outputs": [],
   "source": [
    "# Defining an evaluation function for training \n",
    "def predict(net, iseq, masks):\n",
    "    device = 'cpu'\n",
    "    # Setting model to evaluation mode\n",
    "    net.eval()\n",
    "\n",
    "    # Move inputs and targets to device\n",
    "    iseq, masks = iseq.to(device), masks.to(device)\n",
    "\n",
    "    # Get logit predictions\n",
    "    p_logit = net(iseq, masks)\n",
    "\n",
    "    probs = torch.sigmoid(p_logit.unsqueeze(-1))\n",
    "    preds = (probs > 0.5).long().squeeze(0)\n",
    "\n",
    "   \n",
    "    return preds.item(), probs.item()"
   ]
  },
  {
   "cell_type": "code",
   "execution_count": 13,
   "metadata": {},
   "outputs": [],
   "source": [
    "test_tokens, test_attn = preprocess('the literally hate this movie ever')"
   ]
  },
  {
   "cell_type": "code",
   "execution_count": 14,
   "metadata": {},
   "outputs": [
    {
     "name": "stdout",
     "output_type": "stream",
     "text": [
      "0 0.04564647749066353\n"
     ]
    }
   ],
   "source": [
    "pred, probability = predict(predictor, test_tokens, test_attn)\n",
    "print(pred, probability)"
   ]
  },
  {
   "cell_type": "code",
   "execution_count": 1,
   "metadata": {},
   "outputs": [],
   "source": [
    "from inference import SentimentClassifier, Predictor\n",
    "import torch"
   ]
  },
  {
   "cell_type": "code",
   "execution_count": 2,
   "metadata": {},
   "outputs": [
    {
     "data": {
      "text/plain": [
       "<All keys matched successfully>"
      ]
     },
     "execution_count": 2,
     "metadata": {},
     "output_type": "execute_result"
    }
   ],
   "source": [
    "inference_file = torch.load('model.pth')\n",
    "model = SentimentClassifier()\n",
    "model.load_state_dict(inference_file['model_state_dict'])"
   ]
  },
  {
   "cell_type": "code",
   "execution_count": 3,
   "metadata": {},
   "outputs": [],
   "source": [
    "predictor_obj = Predictor(model)"
   ]
  },
  {
   "cell_type": "code",
   "execution_count": 5,
   "metadata": {},
   "outputs": [
    {
     "data": {
      "text/plain": [
       "(tensor([[1]]), tensor([[[0.9791]]], grad_fn=<SigmoidBackward>))"
      ]
     },
     "execution_count": 5,
     "metadata": {},
     "output_type": "execute_result"
    }
   ],
   "source": [
    "predictor_obj.predict('the literally love this movie ever')"
   ]
  },
  {
   "cell_type": "code",
   "execution_count": null,
   "metadata": {},
   "outputs": [],
   "source": []
  }
 ],
 "metadata": {
  "kernelspec": {
   "display_name": "Python 3",
   "language": "python",
   "name": "python3"
  },
  "language_info": {
   "codemirror_mode": {
    "name": "ipython",
    "version": 3
   },
   "file_extension": ".py",
   "mimetype": "text/x-python",
   "name": "python",
   "nbconvert_exporter": "python",
   "pygments_lexer": "ipython3",
   "version": "3.7.5"
  }
 },
 "nbformat": 4,
 "nbformat_minor": 4
}
