{
 "cells": [
  {
   "cell_type": "markdown",
   "source": [
    "# Making predictions using our trained model"
   ],
   "metadata": {}
  },
  {
   "cell_type": "code",
   "execution_count": 1,
   "source": [
    "from transformers import BertModel, BertTokenizer, BertConfig\r\n",
    "import torch\r\n",
    "from torch import nn"
   ],
   "outputs": [],
   "metadata": {}
  },
  {
   "cell_type": "code",
   "execution_count": 4,
   "source": [
    "class SentimentClassifierModel(nn.Module):\r\n",
    "\r\n",
    "    def __init__(self, freeze_bert = True):\r\n",
    "        super(SentimentClassifierModel, self).__init__()\r\n",
    "\r\n",
    "        # Instantiating the BERT model object \r\n",
    "        self.bert_layer = BertModel(BertConfig())\r\n",
    "        \r\n",
    "        # Defining layers like dropout and linear\r\n",
    "        self.dropout = nn.Dropout(0.1)\r\n",
    "        self.classifier = nn.Linear(768, 1)\r\n",
    "\r\n",
    "    def forward(self, seq, attn_masks):\r\n",
    "        '''\r\n",
    "        Inputs:\r\n",
    "            -seq : Tensor of shape [B, T] containing token ids of sequences\r\n",
    "            -attn_masks : Tensor of shape [B, T] containing attention masks to be used to avoid contibution of PAD tokens\r\n",
    "        '''\r\n",
    "\r\n",
    "        # Getting hidden states from BERT Layer\r\n",
    "        hidden_states = self.bert_layer(seq, attention_mask = attn_masks).last_hidden_state\r\n",
    "\r\n",
    "        # Obtaining the representation of [CLS] head\r\n",
    "        cls_rep = hidden_states[:, 0]\r\n",
    "        # print('CLS shape: ',cls_rep.shape)\r\n",
    "\r\n",
    "        # Feeding cls_rep to the classifier layer\r\n",
    "        logits = self.classifier(cls_rep)\r\n",
    "        # print('Logits shape: ',logits.shape)\r\n",
    "\r\n",
    "        return logits"
   ],
   "outputs": [],
   "metadata": {}
  },
  {
   "cell_type": "code",
   "execution_count": 7,
   "source": [
    "def preprocess(sentence, maxlen=64):\r\n",
    "\r\n",
    "    tokenizer = BertTokenizer.from_pretrained('bert-base-uncased')\r\n",
    "\r\n",
    "    # Tokenize the sentence\r\n",
    "    tokens = tokenizer.tokenize(sentence)\r\n",
    "\r\n",
    "    # Inserting the CLS and SEP token at the beginning and end of the sentence\r\n",
    "    tokens = ['[CLS]'] + tokens + ['[SEP]']\r\n",
    "    \r\n",
    "    # Padding/truncating the sentences to the maximum length\r\n",
    "    if len(tokens) < maxlen:\r\n",
    "        tokens = tokens + ['[PAD]' for _ in range(maxlen - len(tokens))]\r\n",
    "    else:\r\n",
    "        tokens = tokens[:maxlen-1] + ['[SEP]']\r\n",
    "    \r\n",
    "    # Convert the sequence to ids with BERT Vocabulary\r\n",
    "    tokens_ids = tokenizer.convert_tokens_to_ids(tokens)\r\n",
    "    \r\n",
    "    # Converting the list to a pytorch tensor\r\n",
    "    tokens_ids_tensor = torch.tensor(tokens_ids).unsqueeze(0)\r\n",
    "\r\n",
    "    # Obtaining the attention mask\r\n",
    "    attn_mask = (tokens_ids_tensor != 0).long()\r\n",
    "\r\n",
    "    return tokens_ids_tensor, attn_mask"
   ],
   "outputs": [],
   "metadata": {}
  },
  {
   "cell_type": "code",
   "execution_count": 13,
   "source": [
    "# Defining an evaluation function for training \r\n",
    "def predict(net, iseq, masks):\r\n",
    "    device = 'cpu'\r\n",
    "    # Setting model to evaluation mode\r\n",
    "    net.eval()\r\n",
    "\r\n",
    "    # Move inputs and targets to device\r\n",
    "    iseq, masks = iseq.to(device), masks.to(device)\r\n",
    "\r\n",
    "    # Get logit predictions\r\n",
    "    p_logit = net(iseq, masks)\r\n",
    "\r\n",
    "    probs = torch.sigmoid(p_logit.unsqueeze(-1))\r\n",
    "    preds = (probs > 0.5).long().squeeze(0)\r\n",
    "\r\n",
    "   \r\n",
    "    return preds.item(), probs.item()"
   ],
   "outputs": [],
   "metadata": {}
  },
  {
   "cell_type": "code",
   "execution_count": 6,
   "source": [
    "# initializing the predictor\r\n",
    "predictor = SentimentClassifierModel()\r\n",
    "predictor.load_state_dict(torch.load('inference.pth'))"
   ],
   "outputs": [
    {
     "output_type": "execute_result",
     "data": {
      "text/plain": [
       "<All keys matched successfully>"
      ]
     },
     "metadata": {},
     "execution_count": 6
    }
   ],
   "metadata": {
    "scrolled": true
   }
  },
  {
   "cell_type": "code",
   "execution_count": 20,
   "source": [
    "# preprocessing a test sentence\r\n",
    "test_tokens, test_attn = preprocess('the literally hate this movie ever')"
   ],
   "outputs": [],
   "metadata": {}
  },
  {
   "cell_type": "code",
   "execution_count": 21,
   "source": [
    "# making predictions of the test sentence\r\n",
    "pred, probability = predict(predictor, test_tokens, test_attn)\r\n",
    "print(pred, probability)"
   ],
   "outputs": [
    {
     "output_type": "stream",
     "name": "stdout",
     "text": [
      "0 0.04564647749066353\n"
     ]
    }
   ],
   "metadata": {
    "scrolled": true
   }
  },
  {
   "cell_type": "markdown",
   "source": [
    "# Testing our Inference Module"
   ],
   "metadata": {}
  },
  {
   "cell_type": "code",
   "execution_count": 23,
   "source": [
    "from inference import SentimentClassifier, Predictor\n",
    "import torch"
   ],
   "outputs": [],
   "metadata": {}
  },
  {
   "cell_type": "code",
   "execution_count": 24,
   "source": [
    "model = SentimentClassifier()\n",
    "model.load_state_dict(torch.load('inference.pth'))"
   ],
   "outputs": [
    {
     "output_type": "execute_result",
     "data": {
      "text/plain": [
       "<All keys matched successfully>"
      ]
     },
     "metadata": {},
     "execution_count": 24
    }
   ],
   "metadata": {}
  },
  {
   "cell_type": "code",
   "execution_count": 25,
   "source": [
    "predictor_obj = Predictor(model)"
   ],
   "outputs": [],
   "metadata": {}
  },
  {
   "cell_type": "code",
   "execution_count": 26,
   "source": [
    "predictor_obj.predict('the literally love this movie ever')"
   ],
   "outputs": [
    {
     "output_type": "execute_result",
     "data": {
      "text/plain": [
       "(1, 0.9788225293159485)"
      ]
     },
     "metadata": {},
     "execution_count": 26
    }
   ],
   "metadata": {}
  },
  {
   "cell_type": "code",
   "execution_count": null,
   "source": [],
   "outputs": [],
   "metadata": {}
  }
 ],
 "metadata": {
  "kernelspec": {
   "display_name": "Python 3",
   "language": "python",
   "name": "python3"
  },
  "language_info": {
   "codemirror_mode": {
    "name": "ipython",
    "version": 3
   },
   "file_extension": ".py",
   "mimetype": "text/x-python",
   "name": "python",
   "nbconvert_exporter": "python",
   "pygments_lexer": "ipython3",
   "version": "3.7.5"
  }
 },
 "nbformat": 4,
 "nbformat_minor": 4
}